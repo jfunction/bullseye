{
 "metadata": {
  "name": ""
 },
 "nbformat": 3,
 "nbformat_minor": 0,
 "worksheets": [
  {
   "cells": [
    {
     "cell_type": "heading",
     "level": 1,
     "metadata": {},
     "source": [
      "Inplace FFT & IFFT shifting"
     ]
    },
    {
     "cell_type": "raw",
     "metadata": {},
     "source": [
      "This tests out an in-place implementation of the ifft and fft shifts for even- and uneven-sized dimensions. To be implemented in bullseye's FFT machine\n",
      "Grids with even dimensions only require that quadrants 1 & 3 and 2 & 4 be swapped (the fftshift == ifftshift for even dimensions), but for the uneven case this is not as trivial. Here we opt do separate the rotations in the horizontal direction and vertical directions. This implementation will work for any combination of even and odd dimensions (vertical and/or horizontally)"
     ]
    },
    {
     "cell_type": "code",
     "collapsed": false,
     "input": [
      "import numpy as np"
     ],
     "language": "python",
     "metadata": {},
     "outputs": [],
     "prompt_number": 161
    },
    {
     "cell_type": "code",
     "collapsed": false,
     "input": [
      "xn = 6\n",
      "yn = 6\n",
      "original = np.arange(1,xn*yn + 1,dtype=np.float).reshape([yn,xn])\n",
      "print original"
     ],
     "language": "python",
     "metadata": {},
     "outputs": [
      {
       "output_type": "stream",
       "stream": "stdout",
       "text": [
        "[[  1.   2.   3.   4.   5.   6.]\n",
        " [  7.   8.   9.  10.  11.  12.]\n",
        " [ 13.  14.  15.  16.  17.  18.]\n",
        " [ 19.  20.  21.  22.  23.  24.]\n",
        " [ 25.  26.  27.  28.  29.  30.]\n",
        " [ 31.  32.  33.  34.  35.  36.]]\n"
       ]
      }
     ],
     "prompt_number": 162
    },
    {
     "cell_type": "code",
     "collapsed": false,
     "input": [
      "print \"THE IFFT SHIFT SHOULD GIVE:\"\n",
      "model_ifft_shift = np.fft.ifftshift(original)\n",
      "print model_ifft_shift"
     ],
     "language": "python",
     "metadata": {},
     "outputs": [
      {
       "output_type": "stream",
       "stream": "stdout",
       "text": [
        "THE IFFT SHIFT SHOULD GIVE:\n",
        "[[ 22.  23.  24.  19.  20.  21.]\n",
        " [ 28.  29.  30.  25.  26.  27.]\n",
        " [ 34.  35.  36.  31.  32.  33.]\n",
        " [  4.   5.   6.   1.   2.   3.]\n",
        " [ 10.  11.  12.   7.   8.   9.]\n",
        " [ 16.  17.  18.  13.  14.  15.]]\n"
       ]
      }
     ],
     "prompt_number": 163
    },
    {
     "cell_type": "code",
     "collapsed": false,
     "input": [
      "print \"THE FFT SHIFT SHOULD GIVE:\"\n",
      "model_fft_shift = np.fft.fftshift(original)\n",
      "print model_fft_shift"
     ],
     "language": "python",
     "metadata": {},
     "outputs": [
      {
       "output_type": "stream",
       "stream": "stdout",
       "text": [
        "THE FFT SHIFT SHOULD GIVE:\n",
        "[[ 22.  23.  24.  19.  20.  21.]\n",
        " [ 28.  29.  30.  25.  26.  27.]\n",
        " [ 34.  35.  36.  31.  32.  33.]\n",
        " [  4.   5.   6.   1.   2.   3.]\n",
        " [ 10.  11.  12.   7.   8.   9.]\n",
        " [ 16.  17.  18.  13.  14.  15.]]\n"
       ]
      }
     ],
     "prompt_number": 164
    },
    {
     "cell_type": "code",
     "collapsed": false,
     "input": [
      "def ifftshift(mat):\n",
      "    T = np.copy(mat)\n",
      "    half_x = T.shape[1] // 2\n",
      "    half_y = T.shape[0] // 2\n",
      "    odd_offset_x = 1 if T.shape[1] % 2 != 0 else 0\n",
      "    #rotate all the rows right\n",
      "    for iy in range(0,T.shape[0]):\n",
      "        swap_mid = T[iy,half_x]\n",
      "        for ix in range(0,half_x):\n",
      "            ix_reverse = half_x - 1 - ix\n",
      "            swap_x = T[iy,half_x + ix_reverse + odd_offset_x]\n",
      "            T[iy,half_x + ix_reverse + odd_offset_x] = T[iy,ix_reverse]\n",
      "            T[iy,ix_reverse+odd_offset_x] = swap_x\n",
      "        T[iy,0] = swap_mid #doesn't matter for the even case\n",
      "        \n",
      "    odd_offset_y = 1 if T.shape[0] % 2 != 0 else 0\n",
      "    #rotate all the columns down\n",
      "    for ix in range(0,T.shape[1]):\n",
      "        swap_mid = T[half_y,ix]\n",
      "        for iy in range(0,half_y):\n",
      "            iy_reverse = half_y - 1 - iy\n",
      "            swap_y = T[half_y + iy_reverse + odd_offset_y,ix]\n",
      "            T[half_y + iy_reverse + odd_offset_y,ix] = T[iy_reverse,ix]\n",
      "            T[iy_reverse+odd_offset_y,ix] = swap_y\n",
      "        T[0,ix] = swap_mid #doesn't matter for the even case\n",
      "    \n",
      "    return T"
     ],
     "language": "python",
     "metadata": {},
     "outputs": [],
     "prompt_number": 165
    },
    {
     "cell_type": "code",
     "collapsed": false,
     "input": [
      "assert np.all(model_ifft_shift == ifftshift(original)), \"Test case failed\""
     ],
     "language": "python",
     "metadata": {},
     "outputs": [],
     "prompt_number": 166
    },
    {
     "cell_type": "code",
     "collapsed": false,
     "input": [
      "def fftshift(mat):\n",
      "    T = np.copy(mat)\n",
      "    half_x = T.shape[1] // 2\n",
      "    half_y = T.shape[0] // 2\n",
      "    odd_offset_x = 1 if T.shape[1] % 2 != 0 else 0\n",
      "    #rotate all the rows right\n",
      "    for iy in range(0,T.shape[0]):\n",
      "        swap_mid = T[iy,half_x]\n",
      "        for ix in range(0,half_x):\n",
      "            swap = T[iy,ix] #in case this dimension is even\n",
      "            T[iy,ix] = T[iy,half_x + ix + odd_offset_x]\n",
      "            T[iy,half_x + ix] = swap \n",
      "        if T.shape[1] % 2 != 0:\n",
      "            T[iy,T.shape[1]-1] = swap_mid\n",
      "\n",
      "    odd_offset_y = 1 if T.shape[0] % 2 != 0 else 0\n",
      "    #rotate all the columns down\n",
      "    for ix in range(0,T.shape[1]):\n",
      "        swap_mid = T[half_y,ix]\n",
      "        for iy in range(0,half_y):\n",
      "            swap = T[iy,ix] #in case this dimension is even\n",
      "            T[iy,ix] = T[half_y + iy + odd_offset_y,ix]\n",
      "            T[half_y + iy,ix] = swap\n",
      "        if T.shape[0] % 2 != 0:\n",
      "            T[T.shape[0]-1,ix] = swap_mid\n",
      "    return T"
     ],
     "language": "python",
     "metadata": {},
     "outputs": [],
     "prompt_number": 167
    },
    {
     "cell_type": "code",
     "collapsed": false,
     "input": [
      "assert np.all(model_fft_shift == fftshift(original)), \"Test case failed\""
     ],
     "language": "python",
     "metadata": {},
     "outputs": [],
     "prompt_number": 168
    },
    {
     "cell_type": "code",
     "collapsed": false,
     "input": [],
     "language": "python",
     "metadata": {},
     "outputs": [],
     "prompt_number": 168
    }
   ],
   "metadata": {}
  }
 ]
}