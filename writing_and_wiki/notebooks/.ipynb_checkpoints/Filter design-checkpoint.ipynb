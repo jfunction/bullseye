{
 "metadata": {
  "name": ""
 },
 "nbformat": 3,
 "nbformat_minor": 0,
 "worksheets": [
  {
   "cells": [
    {
     "cell_type": "heading",
     "level": 1,
     "metadata": {},
     "source": [
      "Background"
     ]
    },
    {
     "cell_type": "markdown",
     "metadata": {},
     "source": [
      "Recall that a dirty image is formed using the following fourier relation between the spatial coherence and observed sky:\n",
      "\\begin{equation}\n",
      "V_{measured}(u,v,w) = \\left< G_p(\\lambda,t)\\left(\\int_{sources}J_p(l,m,n,\\lambda,t) I(l,m,n)e^{\\frac{2\\pi i}{\\lambda}(ul+vm+w(n-1))}J_q^H(l,m,n,\\lambda,t)\\frac{dldm}{n}\\right)G_q^H(\\lambda,t) \\right>\n",
      "\\end{equation}\n",
      "\n",
      "Provided that $||\\Delta{w}||2\\pi\\left(\\sqrt{1-\\Delta{l}^2-\\Delta{m}^2} - 1\\right) << 1$ where $\\Delta{x} = x_{max} - x_{min}$, we can take the inverse fast fourier transform (planar approximation) to get out a dirty image. However, we first have to resample the image (and if we don't sample at nyquest this has to include an anti-aliasing filter):\n",
      "\n",
      "\\begin{equation}\n",
      "    V_{gridded}(u,v) = (V_{measured}\\cdot S) * (C\\cdot W)_{oversampled} \\cdot (III\\cdot II)\n",
      "\\end{equation}\n",
      "\n",
      "Now we may take the inverse fast fourier transform to get the dirty image out:\n",
      "\\begin{equation}\n",
      "    V_{gridded}(u,v) \\leftrightharpoons^\\mathcal{\\over{F}} I_{dirty}(l,m)\\\\\n",
      "\\end{equation}\n",
      "\n",
      "Here the windowing function ($W$) is normally just a box ($II$). However: the ultimate goal is to limit any aliasing energy outside the box. Therefore we want to drive down the sidelobes of the fourier response using different windowing functions."
     ]
    },
    {
     "cell_type": "heading",
     "level": 1,
     "metadata": {},
     "source": [
      "Setup"
     ]
    },
    {
     "cell_type": "code",
     "collapsed": false,
     "input": [
      "import numpy as np\n",
      "from matplotlib import pyplot as plt\n",
      "from scipy import special as sp\n",
      "from scipy import signal as sg\n",
      "%matplotlib inline"
     ],
     "language": "python",
     "metadata": {},
     "outputs": []
    },
    {
     "cell_type": "code",
     "collapsed": false,
     "input": [
      "half_support = 20\n",
      "full_support = 2 * half_support + 1\n",
      "oversample = 63\n",
      "beta = (7.43 - 2.39) / (5.0-2.0) * full_support - 0.366833\n",
      "x = ((np.arange(0, full_support*oversample) - full_support*oversample/2))/float(oversample)"
     ],
     "language": "python",
     "metadata": {},
     "outputs": []
    },
    {
     "cell_type": "code",
     "collapsed": false,
     "input": [
      "def energy_outside_image(fft_filter,step=0.00001):\n",
      "    intg_lbound = (full_support/2 + 1)*oversample\n",
      "    return np.trapz(np.abs(fft_filter[intg_lbound:]),dx=step)*2 #symetric bound"
     ],
     "language": "python",
     "metadata": {},
     "outputs": []
    },
    {
     "cell_type": "code",
     "collapsed": false,
     "input": [
      "def energy_over_filter(fft_filter,step=0.00001):\n",
      "    return np.trapz(np.abs(fft_filter),dx=step)*2 #symetric bound"
     ],
     "language": "python",
     "metadata": {},
     "outputs": []
    },
    {
     "cell_type": "heading",
     "level": 1,
     "metadata": {},
     "source": [
      "Rectangular (box) Window"
     ]
    },
    {
     "cell_type": "code",
     "collapsed": false,
     "input": [
      "sinc = np.sinc(x)\n",
      "sinc /= np.sum(sinc)\n",
      "fft_sinc = np.real(np.fft.ifftshift(np.fft.fft(np.fft.fftshift(sinc))))\n",
      "plt.figure(figsize=(16, 6))\n",
      "plt.title(\"BOX\")\n",
      "plt.plot(x,np.abs(sinc))\n",
      "plt.xlabel(\"u\")\n",
      "plt.show()\n",
      "plt.figure(figsize=(16, 6))\n",
      "plt.title(\"BOX RESPONSE\")\n",
      "plt.xlabel(\"Image width\")\n",
      "plt.plot(x,np.abs(fft_sinc))\n",
      "intg_value = x[(full_support/2 + 1)*oversample]\n",
      "plt.plot([intg_value,intg_value],[np.min(fft_sinc),np.max(fft_sinc)],'r-')\n",
      "plt.plot([-intg_value,-intg_value],[np.min(fft_sinc),np.max(fft_sinc)],'r-')\n",
      "plt.show()"
     ],
     "language": "python",
     "metadata": {},
     "outputs": []
    },
    {
     "cell_type": "heading",
     "level": 1,
     "metadata": {},
     "source": [
      "Hamming window (sidelobe-limiting window)"
     ]
    },
    {
     "cell_type": "code",
     "collapsed": false,
     "input": [
      "sinc_hamming = np.sinc(x) * np.hamming(full_support*oversample)\n",
      "sinc_hamming /= np.sum(sinc_hamming)\n",
      "fft_sinc_hamming = np.real(np.fft.ifftshift(np.fft.fft(np.fft.fftshift(sinc_hamming))))\n",
      "plt.figure(figsize=(16, 6))\n",
      "plt.title(\"HAMMING\")\n",
      "plt.plot(x,np.abs(sinc_hamming))\n",
      "plt.xlabel(\"u\")\n",
      "plt.show()\n",
      "plt.figure(figsize=(16, 6))\n",
      "plt.title(\"HAMMING RESPONSE\")\n",
      "plt.xlabel(\"Image width\")\n",
      "plt.plot(x,np.abs(fft_sinc_hamming))\n",
      "intg_value = x[(full_support/2 + 1)*oversample]\n",
      "plt.plot([intg_value,intg_value],[np.min(fft_sinc_hamming),np.max(fft_sinc_hamming)],'r-')\n",
      "plt.plot([-intg_value,-intg_value],[np.min(fft_sinc_hamming),np.max(fft_sinc_hamming)],'r-')\n",
      "plt.show()"
     ],
     "language": "python",
     "metadata": {},
     "outputs": []
    },
    {
     "cell_type": "heading",
     "level": 1,
     "metadata": {},
     "source": [
      "Kaiser Bessel Window"
     ]
    },
    {
     "cell_type": "code",
     "collapsed": false,
     "input": [
      "sqrt_inner = 1 - (2*x/full_support)**2\n",
      "sinc = np.sinc(x)\n",
      "kb = 1.0/full_support * sp.i0(beta * np.sqrt(sqrt_inner)) * sinc\n",
      "kb /= np.sum(kb)\n",
      "fft_kb = np.real(np.fft.ifftshift(np.fft.fft(np.fft.fftshift(kb))))\n",
      "plt.figure(figsize=(16, 6))\n",
      "plt.title(\"KAISER BESSEL\")\n",
      "plt.plot(x,np.abs(kb))\n",
      "plt.xlabel(\"u\")\n",
      "plt.show()\n",
      "plt.figure(figsize=(16, 6))\n",
      "plt.title(\"KAISER BESSEL RESPONSE\")\n",
      "plt.plot(x,np.abs(fft_kb))\n",
      "plt.xlabel(\"Image width\")\n",
      "intg_value = x[(full_support/2 + 1)*oversample]\n",
      "plt.plot([intg_value,intg_value],[np.min(fft_kb),np.max(fft_kb)],'r-')\n",
      "plt.plot([-intg_value,-intg_value],[np.min(fft_kb),np.max(fft_kb)],'r-')\n",
      "plt.show()"
     ],
     "language": "python",
     "metadata": {},
     "outputs": []
    },
    {
     "cell_type": "code",
     "collapsed": false,
     "input": [
      "dx = 0.000001\n",
      "aSinc=energy_outside_image(fft_sinc,dx)/energy_over_filter(fft_sinc,dx) * 100.0\n",
      "aKBSinc=energy_outside_image(fft_kb,dx)/energy_over_filter(fft_kb,dx) * 100.0\n",
      "aHammingSinc=energy_outside_image(fft_sinc_hamming,dx)/energy_over_filter(fft_sinc_hamming,dx) * 100.0\n",
      "print \"% Aliasing energy with rect window:\",aSinc\n",
      "print \"% Aliasing energy with kb window:\",aKBSinc\n",
      "print \"% Aliasing energy with hamming window:\",aHammingSinc"
     ],
     "language": "python",
     "metadata": {},
     "outputs": []
    },
    {
     "cell_type": "code",
     "collapsed": false,
     "input": [],
     "language": "python",
     "metadata": {},
     "outputs": []
    }
   ],
   "metadata": {}
  }
 ]
}