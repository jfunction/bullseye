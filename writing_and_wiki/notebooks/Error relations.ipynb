{
 "metadata": {
  "name": ""
 },
 "nbformat": 3,
 "nbformat_minor": 0,
 "worksheets": [
  {
   "cells": [
    {
     "cell_type": "heading",
     "level": 1,
     "metadata": {},
     "source": [
      "Setup"
     ]
    },
    {
     "cell_type": "code",
     "collapsed": false,
     "input": [
      "%install_ext http://www.ipp.mpg.de/~mkraus/python/tikzmagic.py"
     ],
     "language": "python",
     "metadata": {},
     "outputs": []
    },
    {
     "cell_type": "raw",
     "metadata": {},
     "source": [
      "You should probably reboot ipython now"
     ]
    },
    {
     "cell_type": "code",
     "collapsed": false,
     "input": [
      "%load_ext tikzmagic"
     ],
     "language": "python",
     "metadata": {},
     "outputs": []
    },
    {
     "cell_type": "code",
     "collapsed": false,
     "input": [
      "import numpy as np\n",
      "from matplotlib import pyplot as plt\n",
      "%matplotlib inline"
     ],
     "language": "python",
     "metadata": {},
     "outputs": []
    },
    {
     "cell_type": "heading",
     "level": 1,
     "metadata": {},
     "source": [
      "Background"
     ]
    },
    {
     "cell_type": "markdown",
     "metadata": {},
     "source": [
      "Recall that the simplistic measurement equation can be defined as follows:\n",
      "\\begin{equation}\n",
      "V_{measured}(u,v,w) \\approx \\left<\\int_{sources}I(l,m,n)e^{\\frac{2\\pi i}{\\lambda}(ul+vm+w(n-1))}\\frac{dldm}{n}\\right> \\text{ where } n\\approx\\sqrt{1-l^2-m^2}\n",
      "\\end{equation}\n",
      "In order to use a 2 dimensional discrete fourier transform $n-1\\approx 0$ (the tangent planar approximation better be close to the celestial sphere). This assumption is invalid in widefield imaging and it is necessary to correct for the resulting phase delay.\n",
      "\n",
      "Let us define the phase error introduced by imaging over wider fields of view with non-coplanar baselines (non-zero w terms) as\n",
      "\\begin{equation}\n",
      "\\xi:=\\frac{2{\\pi}||\\Delta{w}||\\epsilon}{{\\lambda_{min}}{n_{\\text{planes}}}} \\text{ and ideally } 0{\\leq\\xi\\ll}1\n",
      "\\end{equation}\n",
      "\n",
      "Here $\\epsilon$ represents the distance between the celestial sphere and the [tangential] planar projection. For simplicity we assume an orthogonal (SIN projection in FITS nomenclature) coordinate projection is used. In other words for each $(l,m,n)$ coordinate $n = 1$ where n is defined to be in the direction of the phase centre, with orthogonal $l$ and $m$ direction cosines. $l$ and $m$ are the direction cosines with respect to $u$ and $v$ respectively.\n",
      "\n",
      "In order to decrease $\\xi$ we need $n_{\\text{planes}}{\\rightarrow}\\infty$. $n_{planes}$ can either represent the number of w-projection planes or the number of facets needed to drive down the phase error, $\\xi$."
     ]
    },
    {
     "cell_type": "code",
     "collapsed": false,
     "input": [
      "%%tikz --scale 2 --size 600,600 -f png\n",
      "\\draw [black, domain=0:180] plot ({2*cos(\\x)}, {2*sin(\\x)});\n",
      "\\draw [black, ->] (0,0) -- (0,2);\n",
      "\\draw [black, ->] (0,0) -- ({-0.75*2},{sqrt(4-(-0.75*2)*(-0.75*2))});\n",
      "\\node [above] at (0,1*2) {$n=1$};\n",
      "\\node [right] at (0,0.5*2) {$1$};\n",
      "\\node [right] at (-0.5*2,0.5*2) {$1$};\n",
      "\\node [left] at ({-0.75*2},{sqrt(4-(-0.75*2)*(-0.75*2))}) {$n=\\sqrt{1-l^2-m^2}$};\n",
      "\\draw [blue,thick] (-2,2) -- (2,2);\n",
      "\\draw [red, ->] ({-0.75*2},{sqrt(4-(-0.75*2)*(-0.75*2))}) -- ({-0.75*2},2);\n",
      "\\node [left] at ({-0.75*2},{sqrt(4-(-0.75*2)*(-0.75*2))+0.15*2}) {$\\epsilon$};\n",
      "\\node [right] at ({1*2},{1*2}) {$l$};\n",
      "\\node [right] at ({1*2},{0*2}) {$l=1$};\n",
      "\\node [left] at ({-1*2},{0*2}) {$l=-1$};"
     ],
     "language": "python",
     "metadata": {},
     "outputs": []
    },
    {
     "cell_type": "markdown",
     "metadata": {},
     "source": [
      "The effect of a large range of w values is apparent from the equation for phase error above. For very long baselines, especially those originating from non-coplanar arrays (e.g VLBI) over extended periods of time this w term has a multiplicative effect on the error:\n",
      "\\begin{equation}\n",
      " \\xi\\propto||\\Delta{w}||\\epsilon\n",
      "\\end{equation}\n",
      "It must be emphasized that over an extended period of time the baselines of any general non-East-West array will be rotated up into the w-direction"
     ]
    },
    {
     "cell_type": "code",
     "collapsed": false,
     "input": [
      "%%tikz --scale 2 --size 600,600 -f png\n",
      "\\draw [black,thick] (0,2) -- (3,2);\n",
      "\\draw [black,thick] (0,0) -- (3,0);\n",
      "\\draw [black, domain={180+15}:{360-15}] plot ({(cos(\\x)+1)*0.25}, {(sin(\\x))*0.25+2});\n",
      "\\draw [black] ({0.25*0.5},{2 - sqrt(0.25*0.25*(1-0.5*0.5))}) -- ({0.25},{2});\n",
      "\\draw [black] ({0.25*1.5},{2 - sqrt(0.25*0.25*(1-0.5*0.5))}) -- ({0.25},{2});\n",
      "\\draw [black, domain={180+15}:{360-15}] plot ({(cos(\\x)-1)*0.25+3}, {(sin(\\x))*0.25});\n",
      "\\draw [black] ({3-0.25*0.5},{0 - sqrt(0.25*0.25*(1-0.5*0.5))}) -- ({3-0.25},{0});\n",
      "\\draw [black] ({3-0.25*1.5},{0 - sqrt(0.25*0.25*(1-0.5*0.5))}) -- ({3-0.25},{0});\n",
      "\\draw [red,thick,<->] ({3-0.25},{0}) -- ({3-0.25},{2});\n",
      "\\node [right] at ({3-0.25},{1}) {$||\\Delta{w}||$};\n",
      "\\node [right] at ({3},{2}) {$w_{max}$};\n",
      "\\node [right] at ({3},{0}) {$w_{min}$};"
     ],
     "language": "python",
     "metadata": {},
     "outputs": []
    },
    {
     "cell_type": "markdown",
     "metadata": {},
     "source": [
      "The maximum error occurs at one of the corners of the image, ie. lets say at: \n",
      "\\begin{equation}\n",
      "    \\begin{split}\n",
      "            d &= (\\theta_l/2,\\theta_m/2)\\\\\n",
      "    \\end{split}\n",
      "\\end{equation}\n",
      "Where $\\theta_l=n_xcell_x \\text{ rads and } \\theta_m=n_ycell_y \\text{ rads}$\n",
      "\n",
      "The following identities relate the directions (assumed to be given in right assension and declination $\\theta_l/2$ and $\\theta_m/2$ to points on the celestial sphere.\n",
      "\\begin{equation}\n",
      "    \\begin{split}\n",
      "        l &= \\cos{\\delta}\\sin{\\Delta\\alpha}\\\\\n",
      "        m &= \\sin{\\delta}\\cos{\\delta_0} - \\cos{\\delta}\\sin{\\delta_0}\\cos{\\Delta\\alpha}\\\\\n",
      "        n &= \\sin{\\delta}\\cos{\\delta_0} + \\cos{\\delta}\\cos{\\delta_0}\\cos{\\Delta\\alpha}\\\\\n",
      "    \\end{split}\n",
      "\\end{equation}\n",
      "Then the difference between a point on the orthogonally projected image and the corresponding point on the celestial sphere is given by:\n",
      "\\begin{equation}\n",
      "    \\epsilon = ||n - 1|| = ||\\sqrt{1-(\\Delta{(l/2)})^2-(\\Delta{(m/2)})^2} - 1||\n",
      "\\end{equation}\n",
      "where $\\Delta{(l/2)}$ and $\\Delta{(m/2)}$ corresponds to the direction cosines of the point at $(\\alpha_0 + \\theta_m/2,\\delta_0 + \\theta_l/2)$"
     ]
    },
    {
     "cell_type": "code",
     "collapsed": false,
     "input": [
      "def compute_lmn(phase_centres,image_coordinate):\n",
      "    delta_ra = - phase_centres[0] + image_coordinate[0]\n",
      "    dec0 = phase_centres[1]\n",
      "    dec = image_coordinate[1]\n",
      "    return (np.cos(dec)*np.sin(delta_ra),\n",
      "            np.sin(dec)*np.cos(dec0)-np.cos(dec)*np.sin(dec0)*np.cos(delta_ra),\n",
      "            np.sin(dec)*np.sin(dec0)+np.cos(dec)*np.cos(dec0)*np.cos(delta_ra))"
     ],
     "language": "python",
     "metadata": {},
     "outputs": []
    },
    {
     "cell_type": "code",
     "collapsed": false,
     "input": [
      "def construct_rot_matrix(ra,dec):\n",
      "    rot_matrix = [[np.sin(ra),np.cos(ra),0],\n",
      "                  [-np.sin(dec)*np.cos(ra),np.sin(dec)*np.sin(ra),np.cos(dec)],\n",
      "                  [np.cos(dec)*np.cos(ra),-np.cos(dec)*np.sin(ra),np.sin(dec)]]\n",
      "    return np.matrix(rot_matrix)\n",
      "def compute_new_uvw(old,new,uvw):\n",
      "    rot_matrix = construct_rot_matrix(old[0],old[1])\n",
      "    rot_matrix_new = construct_rot_matrix(new[0],new[1])\n",
      "    return rot_matrix_new * rot_matrix.T * np.matrix(uvw).T #transpose of a Euler rotation matrix is the inverse rotation"
     ],
     "language": "python",
     "metadata": {},
     "outputs": []
    },
    {
     "cell_type": "heading",
     "level": 1,
     "metadata": {},
     "source": [
      "Calculator"
     ]
    },
    {
     "cell_type": "code",
     "collapsed": false,
     "input": [
      "nx = ny = 1024\n",
      "cellx = celly = 8 / 60.0 / 60.0 * np.pi / 180.0 #8*1024 arcsec in radians\n",
      "ra = (290 + 25 * 60 + 0 * 60 * 60) * np.pi / 180\n",
      "dec = (21 + 45 * 60 + 0 * 60) * np.pi / 180\n",
      "phase_centre = np.array([ra,dec]) #should be read from MS\n",
      "max_err = phase_centre + np.array([cellx*nx/2.0,celly*ny/2.0])\n",
      "lmn_max_err = compute_lmn(phase_centre,max_err)\n",
      "delta_w = 4800.5087 #should be read from MS\n",
      "min_lambda = 0.19329 #should be read from MS\n",
      "e = np.abs(lmn_max_err[2]-1)\n",
      "threshold = 0.5\n",
      "\n",
      "num_planes_needed = 2 * np.pi * delta_w * e / (min_lambda * threshold)\n",
      "print num_planes_needed, \"therefore\", np.sqrt(num_planes_needed),\"along each direction\""
     ],
     "language": "python",
     "metadata": {},
     "outputs": []
    }
   ],
   "metadata": {}
  }
 ]
}